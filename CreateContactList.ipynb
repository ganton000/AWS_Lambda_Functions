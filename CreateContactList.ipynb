{
 "cells": [
  {
   "cell_type": "markdown",
   "metadata": {},
   "source": [
    "<h1> Contact List with Lambda and DynamoDB </h1>\n",
    "\n",
    "Creates a contact list using AWS Lambda and stores into DB on DynamoDB from prompt inputs on Contact Flows via Amazon Connect.\n",
    "\n",
    "Followed/copied from Alonso Suarez: <br>\n",
    "https://gist.github.com/alonch/2887d941689f8dbd560614c8667e6300\n",
    "\n"
   ]
  },
  {
   "cell_type": "code",
   "execution_count": null,
   "metadata": {},
   "outputs": [],
   "source": [
    "import json\n",
    "import boto 3\n",
    "\n",
    "def lambda_handler(event, context):\n",
    "    return boto3.client('lambda').add_permission(\n",
    "        Action=\"lambda:InvokeFunction\", \n",
    "        FunctionName = \"<FUNCTION-THAT-WANT-TO-RUN-FROM-AMAZON-CONNECT>\", \n",
    "        Principal= 'connect.amazonaws.com',\n",
    "        SourceAccount='<ACCOUNT-ID>', #check Account Id at https://console.aws.amazon.com/billing/home?#/account\n",
    "        StatementId = \"1\"\n",
    "    )"
   ]
  },
  {
   "cell_type": "code",
   "execution_count": null,
   "metadata": {},
   "outputs": [],
   "source": [
    "\n",
    "\n",
    "dynamodb = boto3.resource('dynamodb')\n",
    "table = dynamodb.Table('contact-list')\n",
    "\n",
    "def lambda_handler(event, context):\n",
    "    address = event\\\n",
    "    .get('Details',{})\\\n",
    "    .get('CustomerEndpoint', {})\\\n",
    "    .get('Address', None)\n",
    "    \n",
    "    if not address:\n",
    "        raise('JSON object is invalid')\n",
    "        \n",
    "    transferTo = event\\.get('Details', {})\\.get('Parameters', {})\\.get('transferTo', None)\n",
    "    \n",
    "    if transferTo: #will update if transferTo is in parameters\n",
    "        put(address, transferTo)\n",
    "    else:  #else it will query\n",
    "        return get(address)\n",
    "        \n",
    "    def put(address, transferTo):\n",
    "        table.put_item(Item={'origin': address, 'transferTo': transferTo})\n",
    "    \n",
    "    def get(address):\n",
    "        response = table.get_item(Key={'origin':address})\n",
    "        if \"Item\" not in response:\n",
    "            raise Exception('not found')\n",
    "\n",
    "        return response.get('Item')\n",
    "        \n",
    "    \n",
    "    return {\n",
    "        'statusCode': 200,\n",
    "        'body': json.dumps('Hello from Lambda!')\n",
    "    }"
   ]
  }
 ],
 "metadata": {
  "interpreter": {
   "hash": "aee8b7b246df8f9039afb4144a1f6fd8d2ca17a180786b69acc140d282b71a49"
  },
  "kernelspec": {
   "display_name": "Python 3.9.5 64-bit",
   "name": "python3"
  },
  "language_info": {
   "name": "python",
   "version": "3.9.5"
  },
  "orig_nbformat": 4
 },
 "nbformat": 4,
 "nbformat_minor": 2
}
